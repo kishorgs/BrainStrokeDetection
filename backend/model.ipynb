{
 "cells": [
  {
   "cell_type": "code",
   "execution_count": 1,
   "id": "883eaf8b-d67c-48e0-8836-d6a35948f5cf",
   "metadata": {},
   "outputs": [],
   "source": [
    "import warnings\n",
    "warnings.filterwarnings('ignore')\n",
    "\n",
    "import os\n",
    "import numpy as np\n",
    "import matplotlib.pyplot as plt\n",
    "%matplotlib inline\n",
    "from sklearn.metrics import classification_report, confusion_matrix, accuracy_score\n",
    "from sklearn.model_selection import train_test_split\n",
    "from PIL import Image\n",
    "import tensorflow as tf\n",
    "from tensorflow.keras import Sequential\n",
    "from tensorflow.keras.layers import Conv2D, MaxPooling2D, Flatten, Dense, Dropout\n",
    "import tkinter as tk\n",
    "from tkinter import filedialog\n",
    "from tkinter import Label\n",
    "from PIL import ImageTk\n"
   ]
  },
  {
   "cell_type": "code",
   "execution_count": 2,
   "id": "872b9713-65ce-4ddb-b02a-071f70012fb4",
   "metadata": {},
   "outputs": [
    {
     "name": "stdout",
     "output_type": "stream",
     "text": [
      "Images in Normal Data: 1551\n",
      "Images in Stroke Data: 950\n"
     ]
    }
   ],
   "source": [
    "normal_path = \"Dataset/Normal/\"\n",
    "stroke_path = \"Dataset/Stroke/\"\n",
    "normal_folder = os.listdir(normal_path)\n",
    "stroke_folder = os.listdir(stroke_path)\n",
    "\n",
    "print(\"Images in Normal Data:\", len(normal_folder))\n",
    "print(\"Images in Stroke Data:\", len(stroke_folder))\n",
    "\n",
    "data = []\n",
    "\n",
    "for img_file in normal_folder:\n",
    "    image = Image.open(normal_path + img_file)\n",
    "    image = image.resize((224, 224))\n",
    "    image = image.convert('RGB')\n",
    "    data.append(np.array(image))\n",
    "    \n",
    "for img_file in stroke_folder:\n",
    "    image = Image.open(stroke_path + img_file)\n",
    "    image = image.resize((224, 224))\n",
    "    image = image.convert('RGB')\n",
    "    data.append(np.array(image))\n",
    "\n",
    "normal_label = [0] * len(normal_folder)\n",
    "stroke_label = [1] * len(stroke_folder)\n",
    "Target_label = normal_label + stroke_label\n",
    "\n",
    "x = np.array(data)\n",
    "y = np.array(Target_label)\n",
    "\n",
    "x_train, x_test, y_train, y_test = train_test_split(x, y, test_size=0.10, shuffle=True)\n",
    "\n",
    "x_train_s = x_train / 255.0\n",
    "x_test_s = x_test / 255.0\n"
   ]
  },
  {
   "cell_type": "code",
   "execution_count": 3,
   "id": "0af6046f-3b4a-4162-b9ec-1d04f0e20020",
   "metadata": {},
   "outputs": [
    {
     "data": {
      "text/html": [
       "<pre style=\"white-space:pre;overflow-x:auto;line-height:normal;font-family:Menlo,'DejaVu Sans Mono',consolas,'Courier New',monospace\"><span style=\"font-weight: bold\">Model: \"sequential\"</span>\n",
       "</pre>\n"
      ],
      "text/plain": [
       "\u001b[1mModel: \"sequential\"\u001b[0m\n"
      ]
     },
     "metadata": {},
     "output_type": "display_data"
    },
    {
     "data": {
      "text/html": [
       "<pre style=\"white-space:pre;overflow-x:auto;line-height:normal;font-family:Menlo,'DejaVu Sans Mono',consolas,'Courier New',monospace\">┏━━━━━━━━━━━━━━━━━━━━━━━━━━━━━━━━━━━━━━┳━━━━━━━━━━━━━━━━━━━━━━━━━━━━━┳━━━━━━━━━━━━━━━━━┓\n",
       "┃<span style=\"font-weight: bold\"> Layer (type)                         </span>┃<span style=\"font-weight: bold\"> Output Shape                </span>┃<span style=\"font-weight: bold\">         Param # </span>┃\n",
       "┡━━━━━━━━━━━━━━━━━━━━━━━━━━━━━━━━━━━━━━╇━━━━━━━━━━━━━━━━━━━━━━━━━━━━━╇━━━━━━━━━━━━━━━━━┩\n",
       "│ conv2d (<span style=\"color: #0087ff; text-decoration-color: #0087ff\">Conv2D</span>)                      │ (<span style=\"color: #00d7ff; text-decoration-color: #00d7ff\">None</span>, <span style=\"color: #00af00; text-decoration-color: #00af00\">222</span>, <span style=\"color: #00af00; text-decoration-color: #00af00\">222</span>, <span style=\"color: #00af00; text-decoration-color: #00af00\">100</span>)       │           <span style=\"color: #00af00; text-decoration-color: #00af00\">2,800</span> │\n",
       "├──────────────────────────────────────┼─────────────────────────────┼─────────────────┤\n",
       "│ max_pooling2d (<span style=\"color: #0087ff; text-decoration-color: #0087ff\">MaxPooling2D</span>)         │ (<span style=\"color: #00d7ff; text-decoration-color: #00d7ff\">None</span>, <span style=\"color: #00af00; text-decoration-color: #00af00\">111</span>, <span style=\"color: #00af00; text-decoration-color: #00af00\">111</span>, <span style=\"color: #00af00; text-decoration-color: #00af00\">100</span>)       │               <span style=\"color: #00af00; text-decoration-color: #00af00\">0</span> │\n",
       "├──────────────────────────────────────┼─────────────────────────────┼─────────────────┤\n",
       "│ conv2d_1 (<span style=\"color: #0087ff; text-decoration-color: #0087ff\">Conv2D</span>)                    │ (<span style=\"color: #00d7ff; text-decoration-color: #00d7ff\">None</span>, <span style=\"color: #00af00; text-decoration-color: #00af00\">109</span>, <span style=\"color: #00af00; text-decoration-color: #00af00\">109</span>, <span style=\"color: #00af00; text-decoration-color: #00af00\">80</span>)        │          <span style=\"color: #00af00; text-decoration-color: #00af00\">72,080</span> │\n",
       "├──────────────────────────────────────┼─────────────────────────────┼─────────────────┤\n",
       "│ max_pooling2d_1 (<span style=\"color: #0087ff; text-decoration-color: #0087ff\">MaxPooling2D</span>)       │ (<span style=\"color: #00d7ff; text-decoration-color: #00d7ff\">None</span>, <span style=\"color: #00af00; text-decoration-color: #00af00\">54</span>, <span style=\"color: #00af00; text-decoration-color: #00af00\">54</span>, <span style=\"color: #00af00; text-decoration-color: #00af00\">80</span>)          │               <span style=\"color: #00af00; text-decoration-color: #00af00\">0</span> │\n",
       "├──────────────────────────────────────┼─────────────────────────────┼─────────────────┤\n",
       "│ conv2d_2 (<span style=\"color: #0087ff; text-decoration-color: #0087ff\">Conv2D</span>)                    │ (<span style=\"color: #00d7ff; text-decoration-color: #00d7ff\">None</span>, <span style=\"color: #00af00; text-decoration-color: #00af00\">52</span>, <span style=\"color: #00af00; text-decoration-color: #00af00\">52</span>, <span style=\"color: #00af00; text-decoration-color: #00af00\">64</span>)          │          <span style=\"color: #00af00; text-decoration-color: #00af00\">46,144</span> │\n",
       "├──────────────────────────────────────┼─────────────────────────────┼─────────────────┤\n",
       "│ max_pooling2d_2 (<span style=\"color: #0087ff; text-decoration-color: #0087ff\">MaxPooling2D</span>)       │ (<span style=\"color: #00d7ff; text-decoration-color: #00d7ff\">None</span>, <span style=\"color: #00af00; text-decoration-color: #00af00\">26</span>, <span style=\"color: #00af00; text-decoration-color: #00af00\">26</span>, <span style=\"color: #00af00; text-decoration-color: #00af00\">64</span>)          │               <span style=\"color: #00af00; text-decoration-color: #00af00\">0</span> │\n",
       "├──────────────────────────────────────┼─────────────────────────────┼─────────────────┤\n",
       "│ flatten (<span style=\"color: #0087ff; text-decoration-color: #0087ff\">Flatten</span>)                    │ (<span style=\"color: #00d7ff; text-decoration-color: #00d7ff\">None</span>, <span style=\"color: #00af00; text-decoration-color: #00af00\">43264</span>)               │               <span style=\"color: #00af00; text-decoration-color: #00af00\">0</span> │\n",
       "├──────────────────────────────────────┼─────────────────────────────┼─────────────────┤\n",
       "│ dense (<span style=\"color: #0087ff; text-decoration-color: #0087ff\">Dense</span>)                        │ (<span style=\"color: #00d7ff; text-decoration-color: #00d7ff\">None</span>, <span style=\"color: #00af00; text-decoration-color: #00af00\">500</span>)                 │      <span style=\"color: #00af00; text-decoration-color: #00af00\">21,632,500</span> │\n",
       "├──────────────────────────────────────┼─────────────────────────────┼─────────────────┤\n",
       "│ dropout (<span style=\"color: #0087ff; text-decoration-color: #0087ff\">Dropout</span>)                    │ (<span style=\"color: #00d7ff; text-decoration-color: #00d7ff\">None</span>, <span style=\"color: #00af00; text-decoration-color: #00af00\">500</span>)                 │               <span style=\"color: #00af00; text-decoration-color: #00af00\">0</span> │\n",
       "├──────────────────────────────────────┼─────────────────────────────┼─────────────────┤\n",
       "│ dense_1 (<span style=\"color: #0087ff; text-decoration-color: #0087ff\">Dense</span>)                      │ (<span style=\"color: #00d7ff; text-decoration-color: #00d7ff\">None</span>, <span style=\"color: #00af00; text-decoration-color: #00af00\">500</span>)                 │         <span style=\"color: #00af00; text-decoration-color: #00af00\">250,500</span> │\n",
       "├──────────────────────────────────────┼─────────────────────────────┼─────────────────┤\n",
       "│ dropout_1 (<span style=\"color: #0087ff; text-decoration-color: #0087ff\">Dropout</span>)                  │ (<span style=\"color: #00d7ff; text-decoration-color: #00d7ff\">None</span>, <span style=\"color: #00af00; text-decoration-color: #00af00\">500</span>)                 │               <span style=\"color: #00af00; text-decoration-color: #00af00\">0</span> │\n",
       "├──────────────────────────────────────┼─────────────────────────────┼─────────────────┤\n",
       "│ dense_2 (<span style=\"color: #0087ff; text-decoration-color: #0087ff\">Dense</span>)                      │ (<span style=\"color: #00d7ff; text-decoration-color: #00d7ff\">None</span>, <span style=\"color: #00af00; text-decoration-color: #00af00\">1</span>)                   │             <span style=\"color: #00af00; text-decoration-color: #00af00\">501</span> │\n",
       "└──────────────────────────────────────┴─────────────────────────────┴─────────────────┘\n",
       "</pre>\n"
      ],
      "text/plain": [
       "┏━━━━━━━━━━━━━━━━━━━━━━━━━━━━━━━━━━━━━━┳━━━━━━━━━━━━━━━━━━━━━━━━━━━━━┳━━━━━━━━━━━━━━━━━┓\n",
       "┃\u001b[1m \u001b[0m\u001b[1mLayer (type)                        \u001b[0m\u001b[1m \u001b[0m┃\u001b[1m \u001b[0m\u001b[1mOutput Shape               \u001b[0m\u001b[1m \u001b[0m┃\u001b[1m \u001b[0m\u001b[1m        Param #\u001b[0m\u001b[1m \u001b[0m┃\n",
       "┡━━━━━━━━━━━━━━━━━━━━━━━━━━━━━━━━━━━━━━╇━━━━━━━━━━━━━━━━━━━━━━━━━━━━━╇━━━━━━━━━━━━━━━━━┩\n",
       "│ conv2d (\u001b[38;5;33mConv2D\u001b[0m)                      │ (\u001b[38;5;45mNone\u001b[0m, \u001b[38;5;34m222\u001b[0m, \u001b[38;5;34m222\u001b[0m, \u001b[38;5;34m100\u001b[0m)       │           \u001b[38;5;34m2,800\u001b[0m │\n",
       "├──────────────────────────────────────┼─────────────────────────────┼─────────────────┤\n",
       "│ max_pooling2d (\u001b[38;5;33mMaxPooling2D\u001b[0m)         │ (\u001b[38;5;45mNone\u001b[0m, \u001b[38;5;34m111\u001b[0m, \u001b[38;5;34m111\u001b[0m, \u001b[38;5;34m100\u001b[0m)       │               \u001b[38;5;34m0\u001b[0m │\n",
       "├──────────────────────────────────────┼─────────────────────────────┼─────────────────┤\n",
       "│ conv2d_1 (\u001b[38;5;33mConv2D\u001b[0m)                    │ (\u001b[38;5;45mNone\u001b[0m, \u001b[38;5;34m109\u001b[0m, \u001b[38;5;34m109\u001b[0m, \u001b[38;5;34m80\u001b[0m)        │          \u001b[38;5;34m72,080\u001b[0m │\n",
       "├──────────────────────────────────────┼─────────────────────────────┼─────────────────┤\n",
       "│ max_pooling2d_1 (\u001b[38;5;33mMaxPooling2D\u001b[0m)       │ (\u001b[38;5;45mNone\u001b[0m, \u001b[38;5;34m54\u001b[0m, \u001b[38;5;34m54\u001b[0m, \u001b[38;5;34m80\u001b[0m)          │               \u001b[38;5;34m0\u001b[0m │\n",
       "├──────────────────────────────────────┼─────────────────────────────┼─────────────────┤\n",
       "│ conv2d_2 (\u001b[38;5;33mConv2D\u001b[0m)                    │ (\u001b[38;5;45mNone\u001b[0m, \u001b[38;5;34m52\u001b[0m, \u001b[38;5;34m52\u001b[0m, \u001b[38;5;34m64\u001b[0m)          │          \u001b[38;5;34m46,144\u001b[0m │\n",
       "├──────────────────────────────────────┼─────────────────────────────┼─────────────────┤\n",
       "│ max_pooling2d_2 (\u001b[38;5;33mMaxPooling2D\u001b[0m)       │ (\u001b[38;5;45mNone\u001b[0m, \u001b[38;5;34m26\u001b[0m, \u001b[38;5;34m26\u001b[0m, \u001b[38;5;34m64\u001b[0m)          │               \u001b[38;5;34m0\u001b[0m │\n",
       "├──────────────────────────────────────┼─────────────────────────────┼─────────────────┤\n",
       "│ flatten (\u001b[38;5;33mFlatten\u001b[0m)                    │ (\u001b[38;5;45mNone\u001b[0m, \u001b[38;5;34m43264\u001b[0m)               │               \u001b[38;5;34m0\u001b[0m │\n",
       "├──────────────────────────────────────┼─────────────────────────────┼─────────────────┤\n",
       "│ dense (\u001b[38;5;33mDense\u001b[0m)                        │ (\u001b[38;5;45mNone\u001b[0m, \u001b[38;5;34m500\u001b[0m)                 │      \u001b[38;5;34m21,632,500\u001b[0m │\n",
       "├──────────────────────────────────────┼─────────────────────────────┼─────────────────┤\n",
       "│ dropout (\u001b[38;5;33mDropout\u001b[0m)                    │ (\u001b[38;5;45mNone\u001b[0m, \u001b[38;5;34m500\u001b[0m)                 │               \u001b[38;5;34m0\u001b[0m │\n",
       "├──────────────────────────────────────┼─────────────────────────────┼─────────────────┤\n",
       "│ dense_1 (\u001b[38;5;33mDense\u001b[0m)                      │ (\u001b[38;5;45mNone\u001b[0m, \u001b[38;5;34m500\u001b[0m)                 │         \u001b[38;5;34m250,500\u001b[0m │\n",
       "├──────────────────────────────────────┼─────────────────────────────┼─────────────────┤\n",
       "│ dropout_1 (\u001b[38;5;33mDropout\u001b[0m)                  │ (\u001b[38;5;45mNone\u001b[0m, \u001b[38;5;34m500\u001b[0m)                 │               \u001b[38;5;34m0\u001b[0m │\n",
       "├──────────────────────────────────────┼─────────────────────────────┼─────────────────┤\n",
       "│ dense_2 (\u001b[38;5;33mDense\u001b[0m)                      │ (\u001b[38;5;45mNone\u001b[0m, \u001b[38;5;34m1\u001b[0m)                   │             \u001b[38;5;34m501\u001b[0m │\n",
       "└──────────────────────────────────────┴─────────────────────────────┴─────────────────┘\n"
      ]
     },
     "metadata": {},
     "output_type": "display_data"
    },
    {
     "data": {
      "text/html": [
       "<pre style=\"white-space:pre;overflow-x:auto;line-height:normal;font-family:Menlo,'DejaVu Sans Mono',consolas,'Courier New',monospace\"><span style=\"font-weight: bold\"> Total params: </span><span style=\"color: #00af00; text-decoration-color: #00af00\">22,004,525</span> (83.94 MB)\n",
       "</pre>\n"
      ],
      "text/plain": [
       "\u001b[1m Total params: \u001b[0m\u001b[38;5;34m22,004,525\u001b[0m (83.94 MB)\n"
      ]
     },
     "metadata": {},
     "output_type": "display_data"
    },
    {
     "data": {
      "text/html": [
       "<pre style=\"white-space:pre;overflow-x:auto;line-height:normal;font-family:Menlo,'DejaVu Sans Mono',consolas,'Courier New',monospace\"><span style=\"font-weight: bold\"> Trainable params: </span><span style=\"color: #00af00; text-decoration-color: #00af00\">22,004,525</span> (83.94 MB)\n",
       "</pre>\n"
      ],
      "text/plain": [
       "\u001b[1m Trainable params: \u001b[0m\u001b[38;5;34m22,004,525\u001b[0m (83.94 MB)\n"
      ]
     },
     "metadata": {},
     "output_type": "display_data"
    },
    {
     "data": {
      "text/html": [
       "<pre style=\"white-space:pre;overflow-x:auto;line-height:normal;font-family:Menlo,'DejaVu Sans Mono',consolas,'Courier New',monospace\"><span style=\"font-weight: bold\"> Non-trainable params: </span><span style=\"color: #00af00; text-decoration-color: #00af00\">0</span> (0.00 B)\n",
       "</pre>\n"
      ],
      "text/plain": [
       "\u001b[1m Non-trainable params: \u001b[0m\u001b[38;5;34m0\u001b[0m (0.00 B)\n"
      ]
     },
     "metadata": {},
     "output_type": "display_data"
    }
   ],
   "source": [
    "model = Sequential()\n",
    "\n",
    "model.add(Conv2D(100, kernel_size=(3, 3), activation=\"relu\", input_shape=(224, 224, 3)))\n",
    "model.add(MaxPooling2D(pool_size=(2, 2)))\n",
    "\n",
    "model.add(Conv2D(80, kernel_size=(3, 3), activation=\"relu\"))\n",
    "model.add(MaxPooling2D(pool_size=(2, 2)))\n",
    "\n",
    "model.add(Conv2D(64, kernel_size=(3, 3), activation=\"relu\"))\n",
    "model.add(MaxPooling2D(pool_size=(2, 2)))\n",
    "\n",
    "model.add(Flatten())\n",
    "model.add(Dense(500, activation=\"relu\"))\n",
    "model.add(Dropout(0.2))\n",
    "model.add(Dense(500, activation=\"relu\"))\n",
    "model.add(Dropout(0.2))\n",
    "model.add(Dense(1, activation=\"sigmoid\"))\n",
    "\n",
    "model.compile(optimizer=\"adam\", loss=\"binary_crossentropy\", metrics=[\"accuracy\"])\n",
    "\n",
    "model.summary()\n"
   ]
  },
  {
   "cell_type": "code",
   "execution_count": 4,
   "id": "5a3f5c43-4c7d-4d7f-abf2-46efbbf9cd93",
   "metadata": {},
   "outputs": [
    {
     "name": "stdout",
     "output_type": "stream",
     "text": [
      "Epoch 1/10\n",
      "\u001b[1m71/71\u001b[0m \u001b[32m━━━━━━━━━━━━━━━━━━━━\u001b[0m\u001b[37m\u001b[0m \u001b[1m310s\u001b[0m 4s/step - accuracy: 0.6147 - loss: 0.6955 - val_accuracy: 0.7769 - val_loss: 0.4856\n",
      "Epoch 2/10\n",
      "\u001b[1m71/71\u001b[0m \u001b[32m━━━━━━━━━━━━━━━━━━━━\u001b[0m\u001b[37m\u001b[0m \u001b[1m300s\u001b[0m 4s/step - accuracy: 0.8438 - loss: 0.3655 - val_accuracy: 0.9243 - val_loss: 0.1515\n",
      "Epoch 3/10\n",
      "\u001b[1m71/71\u001b[0m \u001b[32m━━━━━━━━━━━━━━━━━━━━\u001b[0m\u001b[37m\u001b[0m \u001b[1m307s\u001b[0m 4s/step - accuracy: 0.9588 - loss: 0.1143 - val_accuracy: 0.9602 - val_loss: 0.0935\n",
      "Epoch 4/10\n",
      "\u001b[1m71/71\u001b[0m \u001b[32m━━━━━━━━━━━━━━━━━━━━\u001b[0m\u001b[37m\u001b[0m \u001b[1m301s\u001b[0m 4s/step - accuracy: 0.9726 - loss: 0.0761 - val_accuracy: 0.9482 - val_loss: 0.1511\n",
      "Epoch 5/10\n",
      "\u001b[1m71/71\u001b[0m \u001b[32m━━━━━━━━━━━━━━━━━━━━\u001b[0m\u001b[37m\u001b[0m \u001b[1m306s\u001b[0m 4s/step - accuracy: 0.9824 - loss: 0.0483 - val_accuracy: 0.9761 - val_loss: 0.0687\n",
      "Epoch 6/10\n",
      "\u001b[1m71/71\u001b[0m \u001b[32m━━━━━━━━━━━━━━━━━━━━\u001b[0m\u001b[37m\u001b[0m \u001b[1m312s\u001b[0m 4s/step - accuracy: 0.9927 - loss: 0.0181 - val_accuracy: 0.9841 - val_loss: 0.0482\n",
      "Epoch 7/10\n",
      "\u001b[1m71/71\u001b[0m \u001b[32m━━━━━━━━━━━━━━━━━━━━\u001b[0m\u001b[37m\u001b[0m \u001b[1m301s\u001b[0m 4s/step - accuracy: 0.9965 - loss: 0.0091 - val_accuracy: 0.9761 - val_loss: 0.0913\n",
      "Epoch 8/10\n",
      "\u001b[1m71/71\u001b[0m \u001b[32m━━━━━━━━━━━━━━━━━━━━\u001b[0m\u001b[37m\u001b[0m \u001b[1m301s\u001b[0m 4s/step - accuracy: 0.9963 - loss: 0.0113 - val_accuracy: 0.9801 - val_loss: 0.0549\n",
      "Epoch 9/10\n",
      "\u001b[1m71/71\u001b[0m \u001b[32m━━━━━━━━━━━━━━━━━━━━\u001b[0m\u001b[37m\u001b[0m \u001b[1m307s\u001b[0m 4s/step - accuracy: 0.9978 - loss: 0.0088 - val_accuracy: 0.9721 - val_loss: 0.1169\n",
      "Epoch 10/10\n",
      "\u001b[1m71/71\u001b[0m \u001b[32m━━━━━━━━━━━━━━━━━━━━\u001b[0m\u001b[37m\u001b[0m \u001b[1m354s\u001b[0m 5s/step - accuracy: 0.9839 - loss: 0.0395 - val_accuracy: 0.9721 - val_loss: 0.1056\n",
      "\u001b[1m8/8\u001b[0m \u001b[32m━━━━━━━━━━━━━━━━━━━━\u001b[0m\u001b[37m\u001b[0m \u001b[1m5s\u001b[0m 644ms/step - accuracy: 0.9731 - loss: 0.0868\n",
      "Loss on Test Data: 0.10560231655836105\n",
      "Accuracy on Test Data: 0.9721115827560425\n",
      "\u001b[1m71/71\u001b[0m \u001b[32m━━━━━━━━━━━━━━━━━━━━\u001b[0m\u001b[37m\u001b[0m \u001b[1m45s\u001b[0m 618ms/step - accuracy: 0.9971 - loss: 0.0170\n",
      "Loss on Train Data: 0.012637682259082794\n",
      "Accuracy on Train Data: 0.9973333477973938\n"
     ]
    }
   ],
   "source": [
    "history = model.fit(x_train_s, y_train, batch_size=32, epochs=10, validation_data=(x_test_s, y_test))\n",
    "\n",
    "loss, acc = model.evaluate(x_test_s, y_test)\n",
    "print(\"Loss on Test Data:\", loss)\n",
    "print(\"Accuracy on Test Data:\", acc)\n",
    "\n",
    "loss, acc = model.evaluate(x_train_s, y_train)\n",
    "print(\"Loss on Train Data:\", loss)\n",
    "print(\"Accuracy on Train Data:\", acc)\n"
   ]
  },
  {
   "cell_type": "code",
   "execution_count": 5,
   "id": "3e48ba1b-5840-4276-a4e9-1fb3ceb57e75",
   "metadata": {},
   "outputs": [
    {
     "name": "stderr",
     "output_type": "stream",
     "text": [
      "WARNING:absl:You are saving your model as an HDF5 file via `model.save()` or `keras.saving.save_model(model)`. This file format is considered legacy. We recommend using instead the native Keras format, e.g. `model.save('my_model.keras')` or `keras.saving.save_model(model, 'my_model.keras')`. \n"
     ]
    }
   ],
   "source": [
    "model.save(\"stroke_detection_model.h5\")"
   ]
  },
  {
   "cell_type": "code",
   "execution_count": 1,
   "id": "a4c66fc8-6929-410b-854d-f46c88900538",
   "metadata": {},
   "outputs": [
    {
     "name": "stdout",
     "output_type": "stream",
     "text": [
      "WARNING:tensorflow:From C:\\Python311\\Lib\\site-packages\\keras\\src\\losses.py:2976: The name tf.losses.sparse_softmax_cross_entropy is deprecated. Please use tf.compat.v1.losses.sparse_softmax_cross_entropy instead.\n",
      "\n"
     ]
    }
   ],
   "source": [
    "import tkinter as tk\n",
    "from tkinter import filedialog, Label, messagebox, Button\n",
    "from PIL import Image, ImageTk\n",
    "import numpy as np\n",
    "import tensorflow as tf \n",
    "\n",
    "class StrokeDetectionApp:\n",
    "    def __init__(self, root):\n",
    "        self.root = root\n",
    "        self.root.title(\"Brain stroke detection\")\n",
    "        self.root.geometry(\"800x600\")\n",
    "        self.root.configure(bg=\"#E9F3FB\")  \n",
    "\n",
    "        custom_font = (\"Helvetica\", 18, \"bold\")\n",
    "        \n",
    "        label = tk.Label(root, text=\"Brain Stroke detection using machine learning\", bg='#E9F3FB', font=custom_font, fg='#0B2F9F')\n",
    "        label.pack(pady=20)\n",
    "\n",
    "        self.panel_frame = tk.Frame(self.root, bg=\"#FFFFFF\", bd=2, relief=\"solid\", highlightbackground=\"#0B2F9F\", highlightthickness=2)\n",
    "        self.panel_frame.place(relx=0.5, rely=0.5, anchor=tk.CENTER, width=600, height=400)\n",
    "\n",
    "        self.inner_frame = tk.Frame(self.panel_frame, bg=\"#FFFFFF\", relief=\"flat\", bd=0)\n",
    "        self.inner_frame.place(relx=0.5, rely=0.5, anchor=tk.CENTER, width=596, height=396)\n",
    "\n",
    "        self.inner_frame.config(highlightbackground=\"#0B2F9F\", highlightcolor=\"#0B2F9F\", highlightthickness=2)\n",
    "\n",
    "        self.load_placeholder_image()\n",
    "\n",
    "        self.label = tk.Label(self.inner_frame, text=\"Drag & Drop\\nor browse\", font=(\"Arial\", 16), fg=\"#295F98\", bg=\"#FFFFFF\", justify=tk.CENTER)\n",
    "        self.label.place(relx=0.5, rely=0.65, anchor=tk.CENTER)\n",
    "\n",
    "        self.large_image_label = tk.Label(self.root, bg=\"#E9F3FB\")\n",
    "        self.large_image_label.place(relx=0.5, rely=0.3, anchor=tk.CENTER, width=500, height=300)\n",
    "        self.large_image_label.place_forget()\n",
    "\n",
    "        self.support_text = tk.Label(self.inner_frame, text=\"Supports: JPEG, JPG, PNG\", font=(\"Arial\", 10), fg=\"#A0A0A0\", bg=\"#FFFFFF\")\n",
    "        self.support_text.place(relx=0.5, rely=0.85, anchor=tk.CENTER)\n",
    "\n",
    "        self.image_reference = None\n",
    "\n",
    "        self.result_label = tk.Label(self.root, text=\"\", font=(\"Arial\", 16), fg=\"green\", bg='#FFFFFF')\n",
    "        self.result_label.place(relx=0.5, rely=0.8, anchor=tk.CENTER)\n",
    "\n",
    "        self.retry_button = tk.Button(self.root, text=\"Retry\", command=self.reset, font=(\"Arial\", 14), bg=\"#295F98\", fg=\"#FFFFFF\", padx=20)\n",
    "        self.retry_button.place(relx=0.5, rely=0.9, anchor=tk.CENTER)\n",
    "        self.retry_button.place_forget()  \n",
    "\n",
    "        self.inner_frame.bind(\"<Button-1>\", lambda e: self.load_image())\n",
    "\n",
    "    def load_placeholder_image(self):\n",
    "        try:\n",
    "            self.icon_img = Image.open(\"placeholder.jpg\").resize((150, 150)) \n",
    "            self.icon_img_tk = ImageTk.PhotoImage(self.icon_img)\n",
    "            \n",
    "            self.icon_label = tk.Label(self.inner_frame, image=self.icon_img_tk, bg=\"#FFFFFF\")\n",
    "            self.icon_label.image = self.icon_img_tk  \n",
    "            self.icon_label.place(relx=0.5, rely=0.3, anchor=tk.CENTER)\n",
    "\n",
    "            self.image_reference = self.icon_img_tk\n",
    "\n",
    "        except Exception as e:\n",
    "            messagebox.showerror(\"Error\", f\"Failed to load image: {e}\")\n",
    "\n",
    "    def load_image(self):\n",
    "        file_path = filedialog.askopenfilename(filetypes=[(\"Image Files\", \"*.jpg;*.jpeg;*.png\")])\n",
    "        if file_path:\n",
    "            try:\n",
    "                selected_image = Image.open(file_path).resize((500, 300))  \n",
    "                selected_image_tk = ImageTk.PhotoImage(selected_image)\n",
    "\n",
    "                self.large_image_label.place(x=150, y=120)  \n",
    "                self.large_image_label.config(image=selected_image_tk)\n",
    "                self.large_image_label.image = selected_image_tk \n",
    "                \n",
    "                self.icon_label.place_forget()\n",
    "                self.label.place_forget()\n",
    "\n",
    "                prediction_result = self.predict_stroke(file_path)\n",
    "                self.result_label.config(text=f\"Prediction: {prediction_result}\")\n",
    "\n",
    "                self.retry_button.config(state=tk.NORMAL)\n",
    "                self.retry_button.place(relx=0.5, rely=0.9, anchor=tk.CENTER)\n",
    "\n",
    "            except Exception as e:\n",
    "                messagebox.showerror(\"Error\", f\"Failed to load image: {e}\")\n",
    "\n",
    "    def predict_stroke(self, image_path):\n",
    "        try:\n",
    "            image = Image.open(image_path).resize((224, 224))  \n",
    "            image = image.convert('RGB')  \n",
    "            image_array = np.array(image) / 255.0  \n",
    "            image_array = np.expand_dims(image_array, axis=0)  \n",
    "            \n",
    "            model = tf.keras.models.load_model('stroke_detection_model.h5')\n",
    "            \n",
    "            prediction = model.predict(image_array)\n",
    "\n",
    "            if prediction[0] > 0.5:\n",
    "                return \"Stroke\"\n",
    "            else:\n",
    "                return \"No Stroke\"\n",
    "        except Exception as e:\n",
    "            messagebox.showerror(\"Error\", f\"Prediction failed: {e}\")\n",
    "            return \"Error\"\n",
    "\n",
    "    def reset(self):\n",
    "        self.label.place(relx=0.5, rely=0.65, anchor=tk.CENTER)\n",
    "        self.icon_label.place(relx=0.5, rely=0.3, anchor=tk.CENTER)\n",
    "        self.large_image_label.config(image='')\n",
    "        self.result_label.config(text=\"\")\n",
    "        self.retry_button.place_forget() \n",
    "        self.image_uploaded = False \n",
    "\n",
    "root = tk.Tk()\n",
    "app = StrokeDetectionApp(root)\n",
    "root.mainloop()\n"
   ]
  },
  {
   "cell_type": "code",
   "execution_count": 7,
   "id": "8310b162-aeb1-4371-ad91-ab8c25a9bb54",
   "metadata": {},
   "outputs": [],
   "source": [
    "model = tf.keras.models.load_model(\"stroke_detection_model.h5\")"
   ]
  }
 ],
 "metadata": {
  "kernelspec": {
   "display_name": "Python 3 (ipykernel)",
   "language": "python",
   "name": "python3"
  },
  "language_info": {
   "codemirror_mode": {
    "name": "ipython",
    "version": 3
   },
   "file_extension": ".py",
   "mimetype": "text/x-python",
   "name": "python",
   "nbconvert_exporter": "python",
   "pygments_lexer": "ipython3",
   "version": "3.11.5"
  }
 },
 "nbformat": 4,
 "nbformat_minor": 5
}
